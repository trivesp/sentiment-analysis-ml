{
 "cells": [
  {
   "cell_type": "markdown",
   "id": "e379a39a",
   "metadata": {
    "_cell_guid": "b1076dfc-b9ad-4769-8c92-a6c4dae69d19",
    "_uuid": "8f2839f25d086af736a60e9eeb907d3b93b6e0e5",
    "papermill": {
     "duration": 0.018631,
     "end_time": "2024-05-01T05:38:35.460565",
     "exception": false,
     "start_time": "2024-05-01T05:38:35.441934",
     "status": "completed"
    },
    "tags": []
   },
   "source": [
    "<h1><u><center>Sentiment Analysis of Movie Reviews </center></u></h1>"
   ]
  },
  {
   "cell_type": "markdown",
   "id": "3069a0d3",
   "metadata": {
    "papermill": {
     "duration": 0.018003,
     "end_time": "2024-05-01T05:38:35.497220",
     "exception": false,
     "start_time": "2024-05-01T05:38:35.479217",
     "status": "completed"
    },
    "tags": []
   },
   "source": [
    "Through this notebook, we will be analysing different movie reviews and identifying the sentiment of the review and thereby classify if the review for the movie is either positive or negative."
   ]
  },
  {
   "cell_type": "markdown",
   "id": "2220e0f2",
   "metadata": {
    "papermill": {
     "duration": 0.018083,
     "end_time": "2024-05-01T05:38:35.533674",
     "exception": false,
     "start_time": "2024-05-01T05:38:35.515591",
     "status": "completed"
    },
    "tags": []
   },
   "source": [
    "## 1. Importing the necessary modules."
   ]
  },
  {
   "cell_type": "code",
   "execution_count": 1,
   "id": "543ca3e5",
   "metadata": {
    "execution": {
     "iopub.execute_input": "2024-05-01T05:38:35.573231Z",
     "iopub.status.busy": "2024-05-01T05:38:35.572694Z",
     "iopub.status.idle": "2024-05-01T05:38:38.428986Z",
     "shell.execute_reply": "2024-05-01T05:38:38.427789Z"
    },
    "papermill": {
     "duration": 2.87896,
     "end_time": "2024-05-01T05:38:38.431570",
     "exception": false,
     "start_time": "2024-05-01T05:38:35.552610",
     "status": "completed"
    },
    "tags": []
   },
   "outputs": [
    {
     "name": "stdout",
     "output_type": "stream",
     "text": [
      "/kaggle/input/sentiment-prediction-on-movie-reviews/movies.csv\n",
      "/kaggle/input/sentiment-prediction-on-movie-reviews/sample.csv\n",
      "/kaggle/input/sentiment-prediction-on-movie-reviews/train.csv\n",
      "/kaggle/input/sentiment-prediction-on-movie-reviews/test.csv\n"
     ]
    }
   ],
   "source": [
    "import numpy as np\n",
    "import pandas as pd \n",
    "import re\n",
    "import seaborn as sns\n",
    "import matplotlib.pyplot as plt\n",
    "\n",
    "#from sklearn.dummy import DummyClassifier\n",
    "from sklearn.feature_extraction.text import CountVectorizer, TfidfVectorizer\n",
    "from sklearn.pipeline import Pipeline\n",
    "from sklearn.preprocessing import LabelEncoder\n",
    "from sklearn.model_selection import train_test_split\n",
    "from sklearn.metrics import accuracy_score, confusion_matrix\n",
    "from sklearn.model_selection import GridSearchCV\n",
    "from sklearn.linear_model import LogisticRegression\n",
    "from sklearn.naive_bayes import ComplementNB, MultinomialNB\n",
    "from sklearn.svm import SVC, LinearSVC\n",
    "from sklearn.ensemble import RandomForestClassifier, AdaBoostClassifier\n",
    "from sklearn.tree import DecisionTreeClassifier\n",
    "from sklearn.linear_model import Perceptron\n",
    "from sklearn.neural_network import MLPClassifier\n",
    "from sklearn.decomposition import PCA\n",
    "\n",
    "import xgboost as xgb\n",
    "\n",
    "import os\n",
    "for dirname, _, filenames in os.walk('/kaggle/input'):\n",
    "    for filename in filenames:\n",
    "        print(os.path.join(dirname, filename))\n"
   ]
  },
  {
   "cell_type": "markdown",
   "id": "d5d9f169",
   "metadata": {
    "papermill": {
     "duration": 0.018124,
     "end_time": "2024-05-01T05:38:38.468964",
     "exception": false,
     "start_time": "2024-05-01T05:38:38.450840",
     "status": "completed"
    },
    "tags": []
   },
   "source": [
    "## Reading the Datasets and Analysing its structure."
   ]
  },
  {
   "cell_type": "code",
   "execution_count": 2,
   "id": "cc63c061",
   "metadata": {
    "execution": {
     "iopub.execute_input": "2024-05-01T05:38:38.509169Z",
     "iopub.status.busy": "2024-05-01T05:38:38.508657Z",
     "iopub.status.idle": "2024-05-01T05:38:40.971178Z",
     "shell.execute_reply": "2024-05-01T05:38:40.969815Z"
    },
    "papermill": {
     "duration": 2.485811,
     "end_time": "2024-05-01T05:38:40.974209",
     "exception": false,
     "start_time": "2024-05-01T05:38:38.488398",
     "status": "completed"
    },
    "tags": []
   },
   "outputs": [],
   "source": [
    "trainset = pd.read_csv(r'/kaggle/input/sentiment-prediction-on-movie-reviews/train.csv')\n",
    "testset = pd.read_csv(r'/kaggle/input/sentiment-prediction-on-movie-reviews/test.csv')\n",
    "movies = pd.read_csv(r'/kaggle/input/sentiment-prediction-on-movie-reviews/movies.csv')"
   ]
  },
  {
   "cell_type": "code",
   "execution_count": 3,
   "id": "2b8ddc42",
   "metadata": {
    "execution": {
     "iopub.execute_input": "2024-05-01T05:38:41.014702Z",
     "iopub.status.busy": "2024-05-01T05:38:41.013527Z",
     "iopub.status.idle": "2024-05-01T05:38:41.049160Z",
     "shell.execute_reply": "2024-05-01T05:38:41.048044Z"
    },
    "papermill": {
     "duration": 0.058873,
     "end_time": "2024-05-01T05:38:41.051998",
     "exception": false,
     "start_time": "2024-05-01T05:38:40.993125",
     "status": "completed"
    },
    "tags": []
   },
   "outputs": [
    {
     "data": {
      "text/html": [
       "<div>\n",
       "<style scoped>\n",
       "    .dataframe tbody tr th:only-of-type {\n",
       "        vertical-align: middle;\n",
       "    }\n",
       "\n",
       "    .dataframe tbody tr th {\n",
       "        vertical-align: top;\n",
       "    }\n",
       "\n",
       "    .dataframe thead th {\n",
       "        text-align: right;\n",
       "    }\n",
       "</style>\n",
       "<table border=\"1\" class=\"dataframe\">\n",
       "  <thead>\n",
       "    <tr style=\"text-align: right;\">\n",
       "      <th></th>\n",
       "      <th>movieid</th>\n",
       "      <th>reviewerName</th>\n",
       "      <th>isFrequentReviewer</th>\n",
       "      <th>reviewText</th>\n",
       "      <th>sentiment</th>\n",
       "    </tr>\n",
       "  </thead>\n",
       "  <tbody>\n",
       "    <tr>\n",
       "      <th>0</th>\n",
       "      <td>marvelous_pirate</td>\n",
       "      <td>Benjamin Henry</td>\n",
       "      <td>False</td>\n",
       "      <td>Henry Selick’s first movie since 2009’s Corali...</td>\n",
       "      <td>POSITIVE</td>\n",
       "    </tr>\n",
       "    <tr>\n",
       "      <th>1</th>\n",
       "      <td>tony_montana_frodo_baggins_v_rocky_balboa</td>\n",
       "      <td>Felicia Lopez</td>\n",
       "      <td>False</td>\n",
       "      <td>With a cast that reads like the Vogue Oscar pa...</td>\n",
       "      <td>NEGATIVE</td>\n",
       "    </tr>\n",
       "    <tr>\n",
       "      <th>2</th>\n",
       "      <td>darth_vader_katniss_everdeen_sorcerer_donnie_d...</td>\n",
       "      <td>Mr. Charles Burgess</td>\n",
       "      <td>True</td>\n",
       "      <td>Creed II does not give us anything but another...</td>\n",
       "      <td>POSITIVE</td>\n",
       "    </tr>\n",
       "    <tr>\n",
       "      <th>3</th>\n",
       "      <td>lara_croft_glimmer</td>\n",
       "      <td>Ryan Barrett</td>\n",
       "      <td>False</td>\n",
       "      <td>I know what you're thinking, but this is no Li...</td>\n",
       "      <td>POSITIVE</td>\n",
       "    </tr>\n",
       "    <tr>\n",
       "      <th>4</th>\n",
       "      <td>jason_bourne_surreal_the_terminator_indiana_jones</td>\n",
       "      <td>Alexander Glover</td>\n",
       "      <td>False</td>\n",
       "      <td>Director Fernando Meirelles tells the story wi...</td>\n",
       "      <td>POSITIVE</td>\n",
       "    </tr>\n",
       "  </tbody>\n",
       "</table>\n",
       "</div>"
      ],
      "text/plain": [
       "                                             movieid         reviewerName  \\\n",
       "0                                   marvelous_pirate       Benjamin Henry   \n",
       "1          tony_montana_frodo_baggins_v_rocky_balboa        Felicia Lopez   \n",
       "2  darth_vader_katniss_everdeen_sorcerer_donnie_d...  Mr. Charles Burgess   \n",
       "3                                 lara_croft_glimmer         Ryan Barrett   \n",
       "4  jason_bourne_surreal_the_terminator_indiana_jones     Alexander Glover   \n",
       "\n",
       "   isFrequentReviewer                                         reviewText  \\\n",
       "0               False  Henry Selick’s first movie since 2009’s Corali...   \n",
       "1               False  With a cast that reads like the Vogue Oscar pa...   \n",
       "2                True  Creed II does not give us anything but another...   \n",
       "3               False  I know what you're thinking, but this is no Li...   \n",
       "4               False  Director Fernando Meirelles tells the story wi...   \n",
       "\n",
       "  sentiment  \n",
       "0  POSITIVE  \n",
       "1  NEGATIVE  \n",
       "2  POSITIVE  \n",
       "3  POSITIVE  \n",
       "4  POSITIVE  "
      ]
     },
     "execution_count": 3,
     "metadata": {},
     "output_type": "execute_result"
    }
   ],
   "source": [
    "trainset.head()\n"
   ]
  },
  {
   "cell_type": "code",
   "execution_count": 4,
   "id": "f0660ec0",
   "metadata": {
    "execution": {
     "iopub.execute_input": "2024-05-01T05:38:41.092505Z",
     "iopub.status.busy": "2024-05-01T05:38:41.091600Z",
     "iopub.status.idle": "2024-05-01T05:38:41.104263Z",
     "shell.execute_reply": "2024-05-01T05:38:41.103135Z"
    },
    "papermill": {
     "duration": 0.035772,
     "end_time": "2024-05-01T05:38:41.107076",
     "exception": false,
     "start_time": "2024-05-01T05:38:41.071304",
     "status": "completed"
    },
    "tags": []
   },
   "outputs": [
    {
     "data": {
      "text/html": [
       "<div>\n",
       "<style scoped>\n",
       "    .dataframe tbody tr th:only-of-type {\n",
       "        vertical-align: middle;\n",
       "    }\n",
       "\n",
       "    .dataframe tbody tr th {\n",
       "        vertical-align: top;\n",
       "    }\n",
       "\n",
       "    .dataframe thead th {\n",
       "        text-align: right;\n",
       "    }\n",
       "</style>\n",
       "<table border=\"1\" class=\"dataframe\">\n",
       "  <thead>\n",
       "    <tr style=\"text-align: right;\">\n",
       "      <th></th>\n",
       "      <th>movieid</th>\n",
       "      <th>reviewerName</th>\n",
       "      <th>isTopCritic</th>\n",
       "      <th>reviewText</th>\n",
       "    </tr>\n",
       "  </thead>\n",
       "  <tbody>\n",
       "    <tr>\n",
       "      <th>0</th>\n",
       "      <td>legend_marty_mcfly_oracle</td>\n",
       "      <td>John Kim</td>\n",
       "      <td>False</td>\n",
       "      <td>Green slowly cranks up the dread with style an...</td>\n",
       "    </tr>\n",
       "    <tr>\n",
       "      <th>1</th>\n",
       "      <td>terminator_katniss_everdeen_glimmer</td>\n",
       "      <td>Brian Chaney</td>\n",
       "      <td>False</td>\n",
       "      <td>Philip Noyce's direction is elegant and unforc...</td>\n",
       "    </tr>\n",
       "    <tr>\n",
       "      <th>2</th>\n",
       "      <td>james_bond_labyrinth_gollum</td>\n",
       "      <td>Danielle Parker</td>\n",
       "      <td>False</td>\n",
       "      <td>It wouldn't do to say what path Maria ultimate...</td>\n",
       "    </tr>\n",
       "    <tr>\n",
       "      <th>3</th>\n",
       "      <td>v_quest_han_solo_wondrous</td>\n",
       "      <td>Brittany Lane</td>\n",
       "      <td>False</td>\n",
       "      <td>Pig is not exactly the arthouse John Wick that...</td>\n",
       "    </tr>\n",
       "    <tr>\n",
       "      <th>4</th>\n",
       "      <td>enigma_hulk_surreal_starlight</td>\n",
       "      <td>Justin Willis</td>\n",
       "      <td>False</td>\n",
       "      <td>An imaginative no-budget musical of sorts abou...</td>\n",
       "    </tr>\n",
       "  </tbody>\n",
       "</table>\n",
       "</div>"
      ],
      "text/plain": [
       "                               movieid     reviewerName  isTopCritic  \\\n",
       "0            legend_marty_mcfly_oracle         John Kim        False   \n",
       "1  terminator_katniss_everdeen_glimmer     Brian Chaney        False   \n",
       "2          james_bond_labyrinth_gollum  Danielle Parker        False   \n",
       "3            v_quest_han_solo_wondrous    Brittany Lane        False   \n",
       "4        enigma_hulk_surreal_starlight    Justin Willis        False   \n",
       "\n",
       "                                          reviewText  \n",
       "0  Green slowly cranks up the dread with style an...  \n",
       "1  Philip Noyce's direction is elegant and unforc...  \n",
       "2  It wouldn't do to say what path Maria ultimate...  \n",
       "3  Pig is not exactly the arthouse John Wick that...  \n",
       "4  An imaginative no-budget musical of sorts abou...  "
      ]
     },
     "execution_count": 4,
     "metadata": {},
     "output_type": "execute_result"
    }
   ],
   "source": [
    "testset.head()"
   ]
  },
  {
   "cell_type": "code",
   "execution_count": 5,
   "id": "cc942071",
   "metadata": {
    "execution": {
     "iopub.execute_input": "2024-05-01T05:38:41.148292Z",
     "iopub.status.busy": "2024-05-01T05:38:41.147392Z",
     "iopub.status.idle": "2024-05-01T05:38:41.507446Z",
     "shell.execute_reply": "2024-05-01T05:38:41.506307Z"
    },
    "papermill": {
     "duration": 0.383676,
     "end_time": "2024-05-01T05:38:41.510151",
     "exception": false,
     "start_time": "2024-05-01T05:38:41.126475",
     "status": "completed"
    },
    "tags": []
   },
   "outputs": [
    {
     "data": {
      "text/html": [
       "<div>\n",
       "<style scoped>\n",
       "    .dataframe tbody tr th:only-of-type {\n",
       "        vertical-align: middle;\n",
       "    }\n",
       "\n",
       "    .dataframe tbody tr th {\n",
       "        vertical-align: top;\n",
       "    }\n",
       "\n",
       "    .dataframe thead th {\n",
       "        text-align: right;\n",
       "    }\n",
       "</style>\n",
       "<table border=\"1\" class=\"dataframe\">\n",
       "  <thead>\n",
       "    <tr style=\"text-align: right;\">\n",
       "      <th></th>\n",
       "      <th>movieid</th>\n",
       "      <th>reviewerName</th>\n",
       "      <th>isFrequentReviewer</th>\n",
       "      <th>reviewText</th>\n",
       "      <th>sentiment</th>\n",
       "    </tr>\n",
       "  </thead>\n",
       "  <tbody>\n",
       "    <tr>\n",
       "      <th>count</th>\n",
       "      <td>162758</td>\n",
       "      <td>162758</td>\n",
       "      <td>162758</td>\n",
       "      <td>156311</td>\n",
       "      <td>162758</td>\n",
       "    </tr>\n",
       "    <tr>\n",
       "      <th>unique</th>\n",
       "      <td>16812</td>\n",
       "      <td>4482</td>\n",
       "      <td>2</td>\n",
       "      <td>155071</td>\n",
       "      <td>2</td>\n",
       "    </tr>\n",
       "    <tr>\n",
       "      <th>top</th>\n",
       "      <td>escape_the_terminator_tyler_durden_astonish</td>\n",
       "      <td>Sherri Morrison</td>\n",
       "      <td>False</td>\n",
       "      <td>Parental Content Review</td>\n",
       "      <td>POSITIVE</td>\n",
       "    </tr>\n",
       "    <tr>\n",
       "      <th>freq</th>\n",
       "      <td>708</td>\n",
       "      <td>962</td>\n",
       "      <td>113189</td>\n",
       "      <td>29</td>\n",
       "      <td>108761</td>\n",
       "    </tr>\n",
       "  </tbody>\n",
       "</table>\n",
       "</div>"
      ],
      "text/plain": [
       "                                            movieid     reviewerName  \\\n",
       "count                                        162758           162758   \n",
       "unique                                        16812             4482   \n",
       "top     escape_the_terminator_tyler_durden_astonish  Sherri Morrison   \n",
       "freq                                            708              962   \n",
       "\n",
       "       isFrequentReviewer               reviewText sentiment  \n",
       "count              162758                   156311    162758  \n",
       "unique                  2                   155071         2  \n",
       "top                 False  Parental Content Review  POSITIVE  \n",
       "freq               113189                       29    108761  "
      ]
     },
     "execution_count": 5,
     "metadata": {},
     "output_type": "execute_result"
    }
   ],
   "source": [
    "trainset.describe()"
   ]
  },
  {
   "cell_type": "code",
   "execution_count": 6,
   "id": "634918c2",
   "metadata": {
    "execution": {
     "iopub.execute_input": "2024-05-01T05:38:41.551774Z",
     "iopub.status.busy": "2024-05-01T05:38:41.551360Z",
     "iopub.status.idle": "2024-05-01T05:38:41.597090Z",
     "shell.execute_reply": "2024-05-01T05:38:41.595824Z"
    },
    "papermill": {
     "duration": 0.070024,
     "end_time": "2024-05-01T05:38:41.599716",
     "exception": false,
     "start_time": "2024-05-01T05:38:41.529692",
     "status": "completed"
    },
    "tags": []
   },
   "outputs": [
    {
     "data": {
      "text/html": [
       "<div>\n",
       "<style scoped>\n",
       "    .dataframe tbody tr th:only-of-type {\n",
       "        vertical-align: middle;\n",
       "    }\n",
       "\n",
       "    .dataframe tbody tr th {\n",
       "        vertical-align: top;\n",
       "    }\n",
       "\n",
       "    .dataframe thead th {\n",
       "        text-align: right;\n",
       "    }\n",
       "</style>\n",
       "<table border=\"1\" class=\"dataframe\">\n",
       "  <thead>\n",
       "    <tr style=\"text-align: right;\">\n",
       "      <th></th>\n",
       "      <th>audienceScore</th>\n",
       "      <th>runtimeMinutes</th>\n",
       "    </tr>\n",
       "  </thead>\n",
       "  <tbody>\n",
       "    <tr>\n",
       "      <th>count</th>\n",
       "      <td>73248.000000</td>\n",
       "      <td>129431.000000</td>\n",
       "    </tr>\n",
       "    <tr>\n",
       "      <th>mean</th>\n",
       "      <td>55.674967</td>\n",
       "      <td>93.708578</td>\n",
       "    </tr>\n",
       "    <tr>\n",
       "      <th>std</th>\n",
       "      <td>24.553648</td>\n",
       "      <td>28.129175</td>\n",
       "    </tr>\n",
       "    <tr>\n",
       "      <th>min</th>\n",
       "      <td>0.000000</td>\n",
       "      <td>1.000000</td>\n",
       "    </tr>\n",
       "    <tr>\n",
       "      <th>25%</th>\n",
       "      <td>37.000000</td>\n",
       "      <td>84.000000</td>\n",
       "    </tr>\n",
       "    <tr>\n",
       "      <th>50%</th>\n",
       "      <td>57.000000</td>\n",
       "      <td>92.000000</td>\n",
       "    </tr>\n",
       "    <tr>\n",
       "      <th>75%</th>\n",
       "      <td>76.000000</td>\n",
       "      <td>103.000000</td>\n",
       "    </tr>\n",
       "    <tr>\n",
       "      <th>max</th>\n",
       "      <td>100.000000</td>\n",
       "      <td>2700.000000</td>\n",
       "    </tr>\n",
       "  </tbody>\n",
       "</table>\n",
       "</div>"
      ],
      "text/plain": [
       "       audienceScore  runtimeMinutes\n",
       "count   73248.000000   129431.000000\n",
       "mean       55.674967       93.708578\n",
       "std        24.553648       28.129175\n",
       "min         0.000000        1.000000\n",
       "25%        37.000000       84.000000\n",
       "50%        57.000000       92.000000\n",
       "75%        76.000000      103.000000\n",
       "max       100.000000     2700.000000"
      ]
     },
     "execution_count": 6,
     "metadata": {},
     "output_type": "execute_result"
    }
   ],
   "source": [
    "movies.describe()"
   ]
  },
  {
   "cell_type": "code",
   "execution_count": 7,
   "id": "db2a77b9",
   "metadata": {
    "execution": {
     "iopub.execute_input": "2024-05-01T05:38:41.642346Z",
     "iopub.status.busy": "2024-05-01T05:38:41.641962Z",
     "iopub.status.idle": "2024-05-01T05:38:41.648465Z",
     "shell.execute_reply": "2024-05-01T05:38:41.647344Z"
    },
    "papermill": {
     "duration": 0.030788,
     "end_time": "2024-05-01T05:38:41.650953",
     "exception": false,
     "start_time": "2024-05-01T05:38:41.620165",
     "status": "completed"
    },
    "tags": []
   },
   "outputs": [
    {
     "name": "stdout",
     "output_type": "stream",
     "text": [
      "The Training Set has 162758 rows and 5 columns.\n",
      "The test set has 55315 rows and 4 columns.\n"
     ]
    }
   ],
   "source": [
    "print(\"The Training Set has {row} rows and {col} columns.\".format(row = trainset.shape[0],col = trainset.shape[1]))\n",
    "print(\"The test set has {row} rows and {col} columns.\".format(row = testset.shape[0],col = testset.shape[1]))"
   ]
  },
  {
   "cell_type": "code",
   "execution_count": 8,
   "id": "099c115c",
   "metadata": {
    "execution": {
     "iopub.execute_input": "2024-05-01T05:38:41.693878Z",
     "iopub.status.busy": "2024-05-01T05:38:41.693320Z",
     "iopub.status.idle": "2024-05-01T05:38:41.931287Z",
     "shell.execute_reply": "2024-05-01T05:38:41.929812Z"
    },
    "papermill": {
     "duration": 0.263073,
     "end_time": "2024-05-01T05:38:41.934354",
     "exception": false,
     "start_time": "2024-05-01T05:38:41.671281",
     "status": "completed"
    },
    "tags": []
   },
   "outputs": [
    {
     "name": "stdout",
     "output_type": "stream",
     "text": [
      "<class 'pandas.core.frame.DataFrame'>\n",
      "RangeIndex: 162758 entries, 0 to 162757\n",
      "Data columns (total 5 columns):\n",
      " #   Column              Non-Null Count   Dtype \n",
      "---  ------              --------------   ----- \n",
      " 0   movieid             162758 non-null  object\n",
      " 1   reviewerName        162758 non-null  object\n",
      " 2   isFrequentReviewer  162758 non-null  bool  \n",
      " 3   reviewText          156311 non-null  object\n",
      " 4   sentiment           162758 non-null  object\n",
      "dtypes: bool(1), object(4)\n",
      "memory usage: 5.1+ MB\n"
     ]
    }
   ],
   "source": [
    "trainset.info()"
   ]
  },
  {
   "cell_type": "code",
   "execution_count": 9,
   "id": "534a727f",
   "metadata": {
    "execution": {
     "iopub.execute_input": "2024-05-01T05:38:41.976856Z",
     "iopub.status.busy": "2024-05-01T05:38:41.976373Z",
     "iopub.status.idle": "2024-05-01T05:38:42.045452Z",
     "shell.execute_reply": "2024-05-01T05:38:42.044206Z"
    },
    "papermill": {
     "duration": 0.09361,
     "end_time": "2024-05-01T05:38:42.047976",
     "exception": false,
     "start_time": "2024-05-01T05:38:41.954366",
     "status": "completed"
    },
    "tags": []
   },
   "outputs": [
    {
     "name": "stdout",
     "output_type": "stream",
     "text": [
      "<class 'pandas.core.frame.DataFrame'>\n",
      "RangeIndex: 55315 entries, 0 to 55314\n",
      "Data columns (total 4 columns):\n",
      " #   Column        Non-Null Count  Dtype \n",
      "---  ------        --------------  ----- \n",
      " 0   movieid       55315 non-null  object\n",
      " 1   reviewerName  55315 non-null  object\n",
      " 2   isTopCritic   55315 non-null  bool  \n",
      " 3   reviewText    52805 non-null  object\n",
      "dtypes: bool(1), object(3)\n",
      "memory usage: 1.3+ MB\n"
     ]
    }
   ],
   "source": [
    "testset.info()"
   ]
  },
  {
   "cell_type": "code",
   "execution_count": 10,
   "id": "1e7fa85c",
   "metadata": {
    "execution": {
     "iopub.execute_input": "2024-05-01T05:38:42.090935Z",
     "iopub.status.busy": "2024-05-01T05:38:42.090484Z",
     "iopub.status.idle": "2024-05-01T05:38:42.591209Z",
     "shell.execute_reply": "2024-05-01T05:38:42.589823Z"
    },
    "papermill": {
     "duration": 0.525146,
     "end_time": "2024-05-01T05:38:42.594344",
     "exception": false,
     "start_time": "2024-05-01T05:38:42.069198",
     "status": "completed"
    },
    "tags": []
   },
   "outputs": [
    {
     "name": "stdout",
     "output_type": "stream",
     "text": [
      "<class 'pandas.core.frame.DataFrame'>\n",
      "RangeIndex: 143258 entries, 0 to 143257\n",
      "Data columns (total 14 columns):\n",
      " #   Column                Non-Null Count   Dtype  \n",
      "---  ------                --------------   -----  \n",
      " 0   movieid               143258 non-null  object \n",
      " 1   title                 143258 non-null  object \n",
      " 2   audienceScore         73248 non-null   float64\n",
      " 3   rating                13991 non-null   object \n",
      " 4   ratingContents        13991 non-null   object \n",
      " 5   releaseDateTheaters   30773 non-null   object \n",
      " 6   releaseDateStreaming  79420 non-null   object \n",
      " 7   runtimeMinutes        129431 non-null  float64\n",
      " 8   genre                 132175 non-null  object \n",
      " 9   originalLanguage      129400 non-null  object \n",
      " 10  director              143258 non-null  object \n",
      " 11  boxOffice             14743 non-null   object \n",
      " 12  distributor           23005 non-null   object \n",
      " 13  soundType             15917 non-null   object \n",
      "dtypes: float64(2), object(12)\n",
      "memory usage: 15.3+ MB\n"
     ]
    }
   ],
   "source": [
    "movies.info()"
   ]
  },
  {
   "cell_type": "markdown",
   "id": "c3d738a6",
   "metadata": {
    "papermill": {
     "duration": 0.01993,
     "end_time": "2024-05-01T05:38:42.634957",
     "exception": false,
     "start_time": "2024-05-01T05:38:42.615027",
     "status": "completed"
    },
    "tags": []
   },
   "source": [
    "The movies dataset servers to provide metadata for the respective training and test reviews. Out of which, the relevant columns that can be used to possibly explore the reviews "
   ]
  },
  {
   "cell_type": "code",
   "execution_count": 11,
   "id": "e83a44f8",
   "metadata": {
    "execution": {
     "iopub.execute_input": "2024-05-01T05:38:42.679722Z",
     "iopub.status.busy": "2024-05-01T05:38:42.679331Z",
     "iopub.status.idle": "2024-05-01T05:38:43.175488Z",
     "shell.execute_reply": "2024-05-01T05:38:43.174199Z"
    },
    "papermill": {
     "duration": 0.52143,
     "end_time": "2024-05-01T05:38:43.178363",
     "exception": false,
     "start_time": "2024-05-01T05:38:42.656933",
     "status": "completed"
    },
    "tags": []
   },
   "outputs": [
    {
     "data": {
      "text/plain": [
       "movieid                      0\n",
       "title                        0\n",
       "audienceScore            70010\n",
       "rating                  129267\n",
       "ratingContents          129267\n",
       "releaseDateTheaters     112485\n",
       "releaseDateStreaming     63838\n",
       "runtimeMinutes           13827\n",
       "genre                    11083\n",
       "originalLanguage         13858\n",
       "director                     0\n",
       "boxOffice               128515\n",
       "distributor             120253\n",
       "soundType               127341\n",
       "dtype: int64"
      ]
     },
     "execution_count": 11,
     "metadata": {},
     "output_type": "execute_result"
    }
   ],
   "source": [
    "movies.isna().sum()"
   ]
  },
  {
   "cell_type": "code",
   "execution_count": 12,
   "id": "71b4fee3",
   "metadata": {
    "execution": {
     "iopub.execute_input": "2024-05-01T05:38:43.226794Z",
     "iopub.status.busy": "2024-05-01T05:38:43.226380Z",
     "iopub.status.idle": "2024-05-01T05:38:44.468044Z",
     "shell.execute_reply": "2024-05-01T05:38:44.467038Z"
    },
    "papermill": {
     "duration": 1.268807,
     "end_time": "2024-05-01T05:38:44.470977",
     "exception": false,
     "start_time": "2024-05-01T05:38:43.202170",
     "status": "completed"
    },
    "tags": []
   },
   "outputs": [
    {
     "data": {
      "image/png": "[encoded data removed]",
      "text/plain": [
       "<Figure size 1500x800 with 1 Axes>"
      ]
     },
     "metadata": {},
     "output_type": "display_data"
    }
   ],
   "source": [
    "col_movies = movies.columns.tolist()\n",
    "\n",
    "null_values = []\n",
    "not_null_values = []\n",
    "\n",
    "for null in movies.isna().sum():\n",
    "    null_values.append(null)\n",
    "    \n",
    "for col in col_movies:\n",
    "    not_null_values.append(movies[col].count())\n",
    "\n",
    "    \n",
    "plotdata = pd.DataFrame({\"Null Values\": null_values,\"Not Null Values\": not_null_values}, index = col_movies)\n",
    "plotdata\n",
    "plotdata.plot(kind=\"bar\",figsize=(15, 8))\n",
    "\n",
    "plt.title(\"Comparing null and Not null values in Movies Dataset\")\n",
    "plt.xlabel(\"Columns\")\n",
    "plt.ylabel(\"Count\")\n",
    "\n",
    "plt.show()\n"
   ]
  },
  {
   "cell_type": "markdown",
   "id": "080c47ad",
   "metadata": {
    "papermill": {
     "duration": 0.021203,
     "end_time": "2024-05-01T05:38:44.514965",
     "exception": false,
     "start_time": "2024-05-01T05:38:44.493762",
     "status": "completed"
    },
    "tags": []
   },
   "source": [
    "We can see from the above plot that the dataset movies has many values that are missing. Even if we consider the metadata offered be this dataset, this would result in bringing down the efficiency of the overall prediction."
   ]
  },
  {
   "cell_type": "markdown",
   "id": "c768d9cf",
   "metadata": {
    "papermill": {
     "duration": 0.021398,
     "end_time": "2024-05-01T05:38:44.557645",
     "exception": false,
     "start_time": "2024-05-01T05:38:44.536247",
     "status": "completed"
    },
    "tags": []
   },
   "source": [
    "The data present in the dataset movies.csv might on an initial glance seem relevant, may not directly contribute to sentiment analysis unless there is specific information in it to be considered. However, upon inspecting it comprehensively, the most of the columsn of the movies.csv dataset has a lot of null values and therefore do not offer any significant advantage. Hence, it can be ignored.\n",
    "\n",
    "\n",
    "The relevant column for determining sentiment would be the \"review\" column. This is where the text of the movie review is present, which contains the information that can be analyzed to determine the sentiment.\n",
    "\n",
    "\n",
    "From the training set, we first remove all the rows with null reviews. This is to ensure that accuracy of the training data. However, on the test data, we replace the null values with a placeholder value, in this case the word \"missing\" for retaining the rows wile indicating the missing value."
   ]
  },
  {
   "cell_type": "code",
   "execution_count": 13,
   "id": "fa25b485",
   "metadata": {
    "execution": {
     "iopub.execute_input": "2024-05-01T05:38:44.603340Z",
     "iopub.status.busy": "2024-05-01T05:38:44.602386Z",
     "iopub.status.idle": "2024-05-01T05:38:44.850125Z",
     "shell.execute_reply": "2024-05-01T05:38:44.848968Z"
    },
    "papermill": {
     "duration": 0.273449,
     "end_time": "2024-05-01T05:38:44.853007",
     "exception": false,
     "start_time": "2024-05-01T05:38:44.579558",
     "status": "completed"
    },
    "tags": []
   },
   "outputs": [],
   "source": [
    "trainset = trainset.dropna().reset_index(drop=True)\n",
    "testset['reviewText'].fillna(\"missing\", inplace = True)"
   ]
  },
  {
   "cell_type": "code",
   "execution_count": 14,
   "id": "4480085d",
   "metadata": {
    "execution": {
     "iopub.execute_input": "2024-05-01T05:38:44.899382Z",
     "iopub.status.busy": "2024-05-01T05:38:44.898727Z",
     "iopub.status.idle": "2024-05-01T05:38:45.109780Z",
     "shell.execute_reply": "2024-05-01T05:38:45.108170Z"
    },
    "papermill": {
     "duration": 0.237352,
     "end_time": "2024-05-01T05:38:45.112492",
     "exception": false,
     "start_time": "2024-05-01T05:38:44.875140",
     "status": "completed"
    },
    "tags": []
   },
   "outputs": [
    {
     "name": "stdout",
     "output_type": "stream",
     "text": [
      "<class 'pandas.core.frame.DataFrame'>\n",
      "RangeIndex: 156311 entries, 0 to 156310\n",
      "Data columns (total 5 columns):\n",
      " #   Column              Non-Null Count   Dtype \n",
      "---  ------              --------------   ----- \n",
      " 0   movieid             156311 non-null  object\n",
      " 1   reviewerName        156311 non-null  object\n",
      " 2   isFrequentReviewer  156311 non-null  bool  \n",
      " 3   reviewText          156311 non-null  object\n",
      " 4   sentiment           156311 non-null  object\n",
      "dtypes: bool(1), object(4)\n",
      "memory usage: 4.9+ MB\n"
     ]
    }
   ],
   "source": [
    "trainset.info()"
   ]
  },
  {
   "cell_type": "code",
   "execution_count": 15,
   "id": "6278f0f0",
   "metadata": {
    "execution": {
     "iopub.execute_input": "2024-05-01T05:38:45.159347Z",
     "iopub.status.busy": "2024-05-01T05:38:45.158886Z",
     "iopub.status.idle": "2024-05-01T05:38:45.229410Z",
     "shell.execute_reply": "2024-05-01T05:38:45.227713Z"
    },
    "papermill": {
     "duration": 0.098133,
     "end_time": "2024-05-01T05:38:45.231984",
     "exception": false,
     "start_time": "2024-05-01T05:38:45.133851",
     "status": "completed"
    },
    "tags": []
   },
   "outputs": [
    {
     "name": "stdout",
     "output_type": "stream",
     "text": [
      "<class 'pandas.core.frame.DataFrame'>\n",
      "RangeIndex: 55315 entries, 0 to 55314\n",
      "Data columns (total 4 columns):\n",
      " #   Column        Non-Null Count  Dtype \n",
      "---  ------        --------------  ----- \n",
      " 0   movieid       55315 non-null  object\n",
      " 1   reviewerName  55315 non-null  object\n",
      " 2   isTopCritic   55315 non-null  bool  \n",
      " 3   reviewText    55315 non-null  object\n",
      "dtypes: bool(1), object(3)\n",
      "memory usage: 1.3+ MB\n"
     ]
    }
   ],
   "source": [
    "testset.info()"
   ]
  },
  {
   "cell_type": "markdown",
   "id": "5f52e676",
   "metadata": {
    "papermill": {
     "duration": 0.022369,
     "end_time": "2024-05-01T05:38:45.276491",
     "exception": false,
     "start_time": "2024-05-01T05:38:45.254122",
     "status": "completed"
    },
    "tags": []
   },
   "source": [
    "Let us replace the two sentiments with a correspondingly assigned numerical value to help with accurate calculations."
   ]
  },
  {
   "cell_type": "code",
   "execution_count": 16,
   "id": "60edaecd",
   "metadata": {
    "execution": {
     "iopub.execute_input": "2024-05-01T05:38:45.321830Z",
     "iopub.status.busy": "2024-05-01T05:38:45.321378Z",
     "iopub.status.idle": "2024-05-01T05:38:45.448126Z",
     "shell.execute_reply": "2024-05-01T05:38:45.446786Z"
    },
    "papermill": {
     "duration": 0.152954,
     "end_time": "2024-05-01T05:38:45.451059",
     "exception": false,
     "start_time": "2024-05-01T05:38:45.298105",
     "status": "completed"
    },
    "tags": []
   },
   "outputs": [],
   "source": [
    "replace_dict = {'POSITIVE': 1, 'NEGATIVE':0 }\n",
    "\n",
    "trainset['sentiment'].replace(replace_dict, inplace = True)"
   ]
  },
  {
   "cell_type": "code",
   "execution_count": 17,
   "id": "14f813a2",
   "metadata": {
    "execution": {
     "iopub.execute_input": "2024-05-01T05:38:45.497966Z",
     "iopub.status.busy": "2024-05-01T05:38:45.497530Z",
     "iopub.status.idle": "2024-05-01T05:38:46.391134Z",
     "shell.execute_reply": "2024-05-01T05:38:46.389669Z"
    },
    "papermill": {
     "duration": 0.919994,
     "end_time": "2024-05-01T05:38:46.394226",
     "exception": false,
     "start_time": "2024-05-01T05:38:45.474232",
     "status": "completed"
    },
    "tags": []
   },
   "outputs": [
    {
     "data": {
      "text/plain": [
       "[]"
      ]
     },
     "execution_count": 17,
     "metadata": {},
     "output_type": "execute_result"
    }
   ],
   "source": [
    "reviewers_train = trainset['reviewerName'].unique()\n",
    "reviewers_test = trainset['reviewerName'].unique()\n",
    "\n",
    "extra_reviewers = [reviewer for reviewer in reviewers_test  if reviewer not in reviewers_train]\n",
    "extra_reviewers"
   ]
  },
  {
   "cell_type": "code",
   "execution_count": 18,
   "id": "de1d30a8",
   "metadata": {
    "execution": {
     "iopub.execute_input": "2024-05-01T05:38:46.441861Z",
     "iopub.status.busy": "2024-05-01T05:38:46.441400Z",
     "iopub.status.idle": "2024-05-01T05:38:46.447073Z",
     "shell.execute_reply": "2024-05-01T05:38:46.445583Z"
    },
    "papermill": {
     "duration": 0.032755,
     "end_time": "2024-05-01T05:38:46.449726",
     "exception": false,
     "start_time": "2024-05-01T05:38:46.416971",
     "status": "completed"
    },
    "tags": []
   },
   "outputs": [],
   "source": [
    "# reviewer_probability[reviwer] =  trainset[trainset['reviewerName']==reviwer]['sentiment'].sum()/trainset[trainset['reviewerName']=='John Kim']['sentiment'].sum()/len(trainset[trainset['reviewerName']=='John Kim'])\n"
   ]
  },
  {
   "cell_type": "code",
   "execution_count": 19,
   "id": "9553734b",
   "metadata": {
    "execution": {
     "iopub.execute_input": "2024-05-01T05:38:46.496166Z",
     "iopub.status.busy": "2024-05-01T05:38:46.495708Z",
     "iopub.status.idle": "2024-05-01T05:38:46.501770Z",
     "shell.execute_reply": "2024-05-01T05:38:46.500534Z"
    },
    "papermill": {
     "duration": 0.033091,
     "end_time": "2024-05-01T05:38:46.504452",
     "exception": false,
     "start_time": "2024-05-01T05:38:46.471361",
     "status": "completed"
    },
    "tags": []
   },
   "outputs": [],
   "source": [
    "# def fill_review_placeholder(reviewer):\n",
    "    \n",
    "#     if not trainset['reviewerName'==reviewer]['reviewText'].isnull():\n",
    "#         return trainset['reviewerName'==reviewer]['reviewText']\n",
    "    \n",
    "#     else:\n",
    "#         positive_reviews = trainset.loc['reviewerName','sentiment']\n",
    "#         total_review = len(trainset[trainset['reviewerName']==reviwer])\n",
    "# #         reviewer_pos_probability =   / \n",
    "#         return positive_reviews\n",
    "    \n",
    "\n",
    "# print(fill_review_placeholder('John Kim'))    \n",
    "        "
   ]
  },
  {
   "cell_type": "markdown",
   "id": "5201fd79",
   "metadata": {
    "papermill": {
     "duration": 0.021536,
     "end_time": "2024-05-01T05:38:46.550967",
     "exception": false,
     "start_time": "2024-05-01T05:38:46.529431",
     "status": "completed"
    },
    "tags": []
   },
   "source": [
    "To perform sentiment analysis, the reviews needs to be cleaned first. We can split the reviews into fragments of words called tokens. These tokens can be made by splitting the sentence into distinct words by seperating it based on white spaces. FUrther more, these tokens needs ton be cleaned of any unwanted characters or symbols.\n",
    "\n",
    "As an extra, the tokens can further be cleaned by removing stopwords it i.e. the common grammatical words like \"a\", \"the\" etc. that do not indicate much emotion when considered individually."
   ]
  },
  {
   "cell_type": "code",
   "execution_count": 20,
   "id": "83acee67",
   "metadata": {
    "execution": {
     "iopub.execute_input": "2024-05-01T05:38:46.596197Z",
     "iopub.status.busy": "2024-05-01T05:38:46.595809Z",
     "iopub.status.idle": "2024-05-01T05:38:46.602127Z",
     "shell.execute_reply": "2024-05-01T05:38:46.601019Z"
    },
    "papermill": {
     "duration": 0.031544,
     "end_time": "2024-05-01T05:38:46.604337",
     "exception": false,
     "start_time": "2024-05-01T05:38:46.572793",
     "status": "completed"
    },
    "tags": []
   },
   "outputs": [],
   "source": [
    "def tokenize(text):\n",
    "    # Preprocess the text by removing unwanted characters\n",
    "    cleaned_text = re.sub(r\"[^\\w\\s]\", \"\", text)\n",
    "\n",
    "    # Split the text into tokens using whitespace as delimiters\n",
    "    tokens = cleaned_text.split()\n",
    "\n",
    "    # Remove punctuation marks at the beginning or end of each token\n",
    "    tokens = [re.sub(r\"^\\W+|\\W+$\", \"\", token) for token in tokens]\n",
    "\n",
    "    return tokens\n"
   ]
  },
  {
   "cell_type": "code",
   "execution_count": 21,
   "id": "877bf045",
   "metadata": {
    "execution": {
     "iopub.execute_input": "2024-05-01T05:38:46.653960Z",
     "iopub.status.busy": "2024-05-01T05:38:46.653480Z",
     "iopub.status.idle": "2024-05-01T05:39:03.827278Z",
     "shell.execute_reply": "2024-05-01T05:39:03.826157Z"
    },
    "papermill": {
     "duration": 17.203855,
     "end_time": "2024-05-01T05:39:03.830259",
     "exception": false,
     "start_time": "2024-05-01T05:38:46.626404",
     "status": "completed"
    },
    "tags": []
   },
   "outputs": [],
   "source": [
    "def clean_text(review):\n",
    "    \n",
    "    # Removing any Brackets\n",
    "    unbracketed_review = re.sub('\\[[^]]*\\]', '', review)\n",
    "    \n",
    "    # Removing Special Characters\n",
    "    special_characters=r'[^a-zA-z0-9\\s]'\n",
    "    char_clean_review =re.sub(special_characters,'',unbracketed_review)\n",
    "    \n",
    "    # Removing Stopwords \"\n",
    "    stopwords = ['a', 'an', 'and', 'the', 'in', 'on', 'is', 'are', 'it', 'to','of', 'for', 'that', 'with', 'as', 'at', 'by', 'be', 'this', 'or', 'i']\n",
    "    \n",
    "    tokenized_text = tokenize(char_clean_review)\n",
    "    \n",
    "    cleaned_review = []\n",
    "    \n",
    "    for token in tokenized_text:\n",
    "        lower_token = token.lower()\n",
    "        \n",
    "        if lower_token not in stopwords:\n",
    "            cleaned_review.append(lower_token)\n",
    "    \n",
    "    cleaned_text = ' '.join(cleaned_review)    \n",
    "            \n",
    "    return cleaned_text\n",
    "\n",
    "\n",
    "#Apply function on review column\n",
    "trainset['reviewText'] = trainset['reviewText'].apply(clean_text)\n",
    "testset['reviewText'] = testset['reviewText'].apply(clean_text)"
   ]
  },
  {
   "cell_type": "code",
   "execution_count": 22,
   "id": "1a4fc392",
   "metadata": {
    "execution": {
     "iopub.execute_input": "2024-05-01T05:39:03.876392Z",
     "iopub.status.busy": "2024-05-01T05:39:03.875948Z",
     "iopub.status.idle": "2024-05-01T05:39:03.892980Z",
     "shell.execute_reply": "2024-05-01T05:39:03.891790Z"
    },
    "papermill": {
     "duration": 0.043144,
     "end_time": "2024-05-01T05:39:03.895801",
     "exception": false,
     "start_time": "2024-05-01T05:39:03.852657",
     "status": "completed"
    },
    "tags": []
   },
   "outputs": [
    {
     "data": {
      "text/html": [
       "<div>\n",
       "<style scoped>\n",
       "    .dataframe tbody tr th:only-of-type {\n",
       "        vertical-align: middle;\n",
       "    }\n",
       "\n",
       "    .dataframe tbody tr th {\n",
       "        vertical-align: top;\n",
       "    }\n",
       "\n",
       "    .dataframe thead th {\n",
       "        text-align: right;\n",
       "    }\n",
       "</style>\n",
       "<table border=\"1\" class=\"dataframe\">\n",
       "  <thead>\n",
       "    <tr style=\"text-align: right;\">\n",
       "      <th></th>\n",
       "      <th>movieid</th>\n",
       "      <th>reviewerName</th>\n",
       "      <th>isFrequentReviewer</th>\n",
       "      <th>reviewText</th>\n",
       "      <th>sentiment</th>\n",
       "    </tr>\n",
       "  </thead>\n",
       "  <tbody>\n",
       "    <tr>\n",
       "      <th>0</th>\n",
       "      <td>marvelous_pirate</td>\n",
       "      <td>Benjamin Henry</td>\n",
       "      <td>False</td>\n",
       "      <td>henry selicks first movie since 2009s coraline...</td>\n",
       "      <td>1</td>\n",
       "    </tr>\n",
       "    <tr>\n",
       "      <th>1</th>\n",
       "      <td>tony_montana_frodo_baggins_v_rocky_balboa</td>\n",
       "      <td>Felicia Lopez</td>\n",
       "      <td>False</td>\n",
       "      <td>cast reads like vogue oscar party guest list v...</td>\n",
       "      <td>0</td>\n",
       "    </tr>\n",
       "    <tr>\n",
       "      <th>2</th>\n",
       "      <td>darth_vader_katniss_everdeen_sorcerer_donnie_d...</td>\n",
       "      <td>Mr. Charles Burgess</td>\n",
       "      <td>True</td>\n",
       "      <td>creed ii does not give us anything but another...</td>\n",
       "      <td>1</td>\n",
       "    </tr>\n",
       "    <tr>\n",
       "      <th>3</th>\n",
       "      <td>lara_croft_glimmer</td>\n",
       "      <td>Ryan Barrett</td>\n",
       "      <td>False</td>\n",
       "      <td>know what youre thinking but no limitless brad...</td>\n",
       "      <td>1</td>\n",
       "    </tr>\n",
       "    <tr>\n",
       "      <th>4</th>\n",
       "      <td>jason_bourne_surreal_the_terminator_indiana_jones</td>\n",
       "      <td>Alexander Glover</td>\n",
       "      <td>False</td>\n",
       "      <td>director fernando meirelles tells story urgenc...</td>\n",
       "      <td>1</td>\n",
       "    </tr>\n",
       "    <tr>\n",
       "      <th>...</th>\n",
       "      <td>...</td>\n",
       "      <td>...</td>\n",
       "      <td>...</td>\n",
       "      <td>...</td>\n",
       "      <td>...</td>\n",
       "    </tr>\n",
       "    <tr>\n",
       "      <th>156306</th>\n",
       "      <td>the_joker_ethereal_captain_jack_sparrow_fantastic</td>\n",
       "      <td>Danny Mueller</td>\n",
       "      <td>False</td>\n",
       "      <td>topnotch thriller genuine surprises great affl...</td>\n",
       "      <td>1</td>\n",
       "    </tr>\n",
       "    <tr>\n",
       "      <th>156307</th>\n",
       "      <td>e.t._hannibal_lecter_vito_corleone_katniss_eve...</td>\n",
       "      <td>Jennifer Clayton</td>\n",
       "      <td>True</td>\n",
       "      <td>some people find derek zoolander funny likable...</td>\n",
       "      <td>0</td>\n",
       "    </tr>\n",
       "    <tr>\n",
       "      <th>156308</th>\n",
       "      <td>infinite_enigma_luke_skywalker</td>\n",
       "      <td>Bryan Wilson</td>\n",
       "      <td>False</td>\n",
       "      <td>fun gentle comedy focuses mainly themes famili...</td>\n",
       "      <td>1</td>\n",
       "    </tr>\n",
       "    <tr>\n",
       "      <th>156309</th>\n",
       "      <td>emerald_oracle_iron_man_wolverine</td>\n",
       "      <td>Erik Parker</td>\n",
       "      <td>False</td>\n",
       "      <td>film rescued strong third act but getting ther...</td>\n",
       "      <td>0</td>\n",
       "    </tr>\n",
       "    <tr>\n",
       "      <th>156310</th>\n",
       "      <td>james_t._kirk_phenomenal_zephyr_chronicles</td>\n",
       "      <td>Howard Evans</td>\n",
       "      <td>False</td>\n",
       "      <td>peerless exercise stimulus response</td>\n",
       "      <td>1</td>\n",
       "    </tr>\n",
       "  </tbody>\n",
       "</table>\n",
       "<p>156311 rows × 5 columns</p>\n",
       "</div>"
      ],
      "text/plain": [
       "                                                  movieid  \\\n",
       "0                                        marvelous_pirate   \n",
       "1               tony_montana_frodo_baggins_v_rocky_balboa   \n",
       "2       darth_vader_katniss_everdeen_sorcerer_donnie_d...   \n",
       "3                                      lara_croft_glimmer   \n",
       "4       jason_bourne_surreal_the_terminator_indiana_jones   \n",
       "...                                                   ...   \n",
       "156306  the_joker_ethereal_captain_jack_sparrow_fantastic   \n",
       "156307  e.t._hannibal_lecter_vito_corleone_katniss_eve...   \n",
       "156308                     infinite_enigma_luke_skywalker   \n",
       "156309                  emerald_oracle_iron_man_wolverine   \n",
       "156310         james_t._kirk_phenomenal_zephyr_chronicles   \n",
       "\n",
       "               reviewerName  isFrequentReviewer  \\\n",
       "0            Benjamin Henry               False   \n",
       "1             Felicia Lopez               False   \n",
       "2       Mr. Charles Burgess                True   \n",
       "3              Ryan Barrett               False   \n",
       "4          Alexander Glover               False   \n",
       "...                     ...                 ...   \n",
       "156306        Danny Mueller               False   \n",
       "156307     Jennifer Clayton                True   \n",
       "156308         Bryan Wilson               False   \n",
       "156309          Erik Parker               False   \n",
       "156310         Howard Evans               False   \n",
       "\n",
       "                                               reviewText  sentiment  \n",
       "0       henry selicks first movie since 2009s coraline...          1  \n",
       "1       cast reads like vogue oscar party guest list v...          0  \n",
       "2       creed ii does not give us anything but another...          1  \n",
       "3       know what youre thinking but no limitless brad...          1  \n",
       "4       director fernando meirelles tells story urgenc...          1  \n",
       "...                                                   ...        ...  \n",
       "156306  topnotch thriller genuine surprises great affl...          1  \n",
       "156307  some people find derek zoolander funny likable...          0  \n",
       "156308  fun gentle comedy focuses mainly themes famili...          1  \n",
       "156309  film rescued strong third act but getting ther...          0  \n",
       "156310                peerless exercise stimulus response          1  \n",
       "\n",
       "[156311 rows x 5 columns]"
      ]
     },
     "execution_count": 22,
     "metadata": {},
     "output_type": "execute_result"
    }
   ],
   "source": [
    "trainset"
   ]
  },
  {
   "cell_type": "code",
   "execution_count": 23,
   "id": "dbd71e92",
   "metadata": {
    "execution": {
     "iopub.execute_input": "2024-05-01T05:39:03.942304Z",
     "iopub.status.busy": "2024-05-01T05:39:03.941898Z",
     "iopub.status.idle": "2024-05-01T05:39:03.947301Z",
     "shell.execute_reply": "2024-05-01T05:39:03.946150Z"
    },
    "papermill": {
     "duration": 0.031445,
     "end_time": "2024-05-01T05:39:03.949564",
     "exception": false,
     "start_time": "2024-05-01T05:39:03.918119",
     "status": "completed"
    },
    "tags": []
   },
   "outputs": [],
   "source": [
    "#X_trainset, y_trainset = trainset.iloc[:, [-2]], trainset.iloc[:, [-1]]\n",
    "X_trainset, y_trainset = trainset['reviewText'], trainset['sentiment']"
   ]
  },
  {
   "cell_type": "code",
   "execution_count": 24,
   "id": "f0062473",
   "metadata": {
    "execution": {
     "iopub.execute_input": "2024-05-01T05:39:03.995970Z",
     "iopub.status.busy": "2024-05-01T05:39:03.995343Z",
     "iopub.status.idle": "2024-05-01T05:39:03.999382Z",
     "shell.execute_reply": "2024-05-01T05:39:03.998621Z"
    },
    "papermill": {
     "duration": 0.029785,
     "end_time": "2024-05-01T05:39:04.001662",
     "exception": false,
     "start_time": "2024-05-01T05:39:03.971877",
     "status": "completed"
    },
    "tags": []
   },
   "outputs": [],
   "source": [
    "X_testingset= testset['reviewText']"
   ]
  },
  {
   "cell_type": "code",
   "execution_count": 25,
   "id": "c5c05378",
   "metadata": {
    "execution": {
     "iopub.execute_input": "2024-05-01T05:39:04.047693Z",
     "iopub.status.busy": "2024-05-01T05:39:04.047071Z",
     "iopub.status.idle": "2024-05-01T05:39:04.055085Z",
     "shell.execute_reply": "2024-05-01T05:39:04.053914Z"
    },
    "papermill": {
     "duration": 0.0341,
     "end_time": "2024-05-01T05:39:04.057706",
     "exception": false,
     "start_time": "2024-05-01T05:39:04.023606",
     "status": "completed"
    },
    "tags": []
   },
   "outputs": [
    {
     "data": {
      "text/plain": [
       "0    henry selicks first movie since 2009s coraline...\n",
       "1    cast reads like vogue oscar party guest list v...\n",
       "2    creed ii does not give us anything but another...\n",
       "3    know what youre thinking but no limitless brad...\n",
       "4    director fernando meirelles tells story urgenc...\n",
       "Name: reviewText, dtype: object"
      ]
     },
     "execution_count": 25,
     "metadata": {},
     "output_type": "execute_result"
    }
   ],
   "source": [
    "X_trainset.head()"
   ]
  },
  {
   "cell_type": "code",
   "execution_count": 26,
   "id": "755b51d4",
   "metadata": {
    "execution": {
     "iopub.execute_input": "2024-05-01T05:39:04.105254Z",
     "iopub.status.busy": "2024-05-01T05:39:04.104591Z",
     "iopub.status.idle": "2024-05-01T05:39:04.112923Z",
     "shell.execute_reply": "2024-05-01T05:39:04.111642Z"
    },
    "papermill": {
     "duration": 0.035207,
     "end_time": "2024-05-01T05:39:04.115307",
     "exception": false,
     "start_time": "2024-05-01T05:39:04.080100",
     "status": "completed"
    },
    "tags": []
   },
   "outputs": [
    {
     "data": {
      "text/plain": [
       "0    green slowly cranks up dread style even occasi...\n",
       "1    philip noyces direction elegant unforced willi...\n",
       "2    wouldnt do say what path maria ultimately take...\n",
       "3    pig not exactly arthouse john wick synopsis mi...\n",
       "4    imaginative nobudget musical sorts about male ...\n",
       "Name: reviewText, dtype: object"
      ]
     },
     "execution_count": 26,
     "metadata": {},
     "output_type": "execute_result"
    }
   ],
   "source": [
    "X_testingset.head()"
   ]
  },
  {
   "cell_type": "markdown",
   "id": "7f456003",
   "metadata": {
    "papermill": {
     "duration": 0.022392,
     "end_time": "2024-05-01T05:39:04.159868",
     "exception": false,
     "start_time": "2024-05-01T05:39:04.137476",
     "status": "completed"
    },
    "tags": []
   },
   "source": [
    "We can check the distribution of the label set of the training data."
   ]
  },
  {
   "cell_type": "code",
   "execution_count": 27,
   "id": "95c0650d",
   "metadata": {
    "execution": {
     "iopub.execute_input": "2024-05-01T05:39:04.209583Z",
     "iopub.status.busy": "2024-05-01T05:39:04.208945Z",
     "iopub.status.idle": "2024-05-01T05:39:04.510450Z",
     "shell.execute_reply": "2024-05-01T05:39:04.509110Z"
    },
    "papermill": {
     "duration": 0.329438,
     "end_time": "2024-05-01T05:39:04.513388",
     "exception": false,
     "start_time": "2024-05-01T05:39:04.183950",
     "status": "completed"
    },
    "tags": []
   },
   "outputs": [
    {
     "data": {
      "text/plain": [
       "Text(0.5, 0, 'Sentiment')"
      ]
     },
     "execution_count": 27,
     "metadata": {},
     "output_type": "execute_result"
    },
    {
     "data": {
      "image/png": "[encoded data removed]",
      "text/plain": [
       "<Figure size 640x480 with 1 Axes>"
      ]
     },
     "metadata": {},
     "output_type": "display_data"
    }
   ],
   "source": [
    "label_count = y_trainset.value_counts().plot(kind = 'bar', title = 'Label Distribution')\n",
    "label_count.set_ylabel('Count of Sentiment')\n",
    "label_count.set_xlabel('Sentiment')"
   ]
  },
  {
   "cell_type": "markdown",
   "id": "1d7ded1e",
   "metadata": {
    "papermill": {
     "duration": 0.022666,
     "end_time": "2024-05-01T05:39:04.558945",
     "exception": false,
     "start_time": "2024-05-01T05:39:04.536279",
     "status": "completed"
    },
    "tags": []
   },
   "source": [
    "## Generating the ML Models"
   ]
  },
  {
   "cell_type": "markdown",
   "id": "ace77a71",
   "metadata": {
    "papermill": {
     "duration": 0.02363,
     "end_time": "2024-05-01T05:39:04.605389",
     "exception": false,
     "start_time": "2024-05-01T05:39:04.581759",
     "status": "completed"
    },
    "tags": []
   },
   "source": [
    "Before sending the data into any model, we first split the train data into training set and test set for further testing. This can be performed using the train test split api. The test data is set to 20 percent of the original data size."
   ]
  },
  {
   "cell_type": "code",
   "execution_count": 28,
   "id": "e95bacc8",
   "metadata": {
    "execution": {
     "iopub.execute_input": "2024-05-01T05:39:04.653779Z",
     "iopub.status.busy": "2024-05-01T05:39:04.652655Z",
     "iopub.status.idle": "2024-05-01T05:39:04.684361Z",
     "shell.execute_reply": "2024-05-01T05:39:04.683309Z"
    },
    "papermill": {
     "duration": 0.058644,
     "end_time": "2024-05-01T05:39:04.686922",
     "exception": false,
     "start_time": "2024-05-01T05:39:04.628278",
     "status": "completed"
    },
    "tags": []
   },
   "outputs": [],
   "source": [
    "X_train,X_test, y_train, y_test = train_test_split(X_trainset, y_trainset, test_size=0.2, random_state=42)"
   ]
  },
  {
   "cell_type": "code",
   "execution_count": 29,
   "id": "0f476fbc",
   "metadata": {
    "execution": {
     "iopub.execute_input": "2024-05-01T05:39:04.734824Z",
     "iopub.status.busy": "2024-05-01T05:39:04.734356Z",
     "iopub.status.idle": "2024-05-01T05:39:04.743123Z",
     "shell.execute_reply": "2024-05-01T05:39:04.742015Z"
    },
    "papermill": {
     "duration": 0.035718,
     "end_time": "2024-05-01T05:39:04.745587",
     "exception": false,
     "start_time": "2024-05-01T05:39:04.709869",
     "status": "completed"
    },
    "tags": []
   },
   "outputs": [
    {
     "name": "stdout",
     "output_type": "stream",
     "text": [
      "Shape of training set X:  (125048,)\n",
      "Shape of training label y:  (125048,)\n",
      "\n",
      "\n",
      "Shape of test set X:  (31263,)\n",
      "Shape of test label y:  (31263,)\n"
     ]
    }
   ],
   "source": [
    "print(\"Shape of training set X: \", X_train.shape)\n",
    "print(\"Shape of training label y: \",y_train.shape)\n",
    "print('\\n')\n",
    "print(\"Shape of test set X: \", X_test.shape)\n",
    "print(\"Shape of test label y: \", y_test.shape)"
   ]
  },
  {
   "cell_type": "markdown",
   "id": "ffa2dc17",
   "metadata": {
    "papermill": {
     "duration": 0.022803,
     "end_time": "2024-05-01T05:39:04.792677",
     "exception": false,
     "start_time": "2024-05-01T05:39:04.769874",
     "status": "completed"
    },
    "tags": []
   },
   "source": [
    "The review is in text format. This needs to be converted into numerical matrix format for ease of calculation. This is done using the CountVectorizer API."
   ]
  },
  {
   "cell_type": "code",
   "execution_count": 30,
   "id": "3730b93b",
   "metadata": {
    "execution": {
     "iopub.execute_input": "2024-05-01T05:39:04.840556Z",
     "iopub.status.busy": "2024-05-01T05:39:04.840182Z",
     "iopub.status.idle": "2024-05-01T05:39:13.928553Z",
     "shell.execute_reply": "2024-05-01T05:39:13.927318Z"
    },
    "papermill": {
     "duration": 9.115751,
     "end_time": "2024-05-01T05:39:13.931515",
     "exception": false,
     "start_time": "2024-05-01T05:39:04.815764",
     "status": "completed"
    },
    "tags": []
   },
   "outputs": [],
   "source": [
    "vectorizer = CountVectorizer()\n",
    "vectorizer.fit(X_train)\n",
    "\n",
    "X_train_cv = vectorizer.transform(X_train)\n",
    "\n",
    "# Transform the testing data using the count vectorizer\n",
    "X_test_cv = vectorizer.transform(X_test)\n",
    "x_testing_cv = vectorizer.transform(X_testingset)\n"
   ]
  },
  {
   "cell_type": "code",
   "execution_count": 31,
   "id": "fc440a42",
   "metadata": {
    "execution": {
     "iopub.execute_input": "2024-05-01T05:39:13.980885Z",
     "iopub.status.busy": "2024-05-01T05:39:13.980431Z",
     "iopub.status.idle": "2024-05-01T05:39:13.985498Z",
     "shell.execute_reply": "2024-05-01T05:39:13.984288Z"
    },
    "papermill": {
     "duration": 0.032606,
     "end_time": "2024-05-01T05:39:13.987841",
     "exception": false,
     "start_time": "2024-05-01T05:39:13.955235",
     "status": "completed"
    },
    "tags": []
   },
   "outputs": [],
   "source": [
    "# tfvectorizer = TfidfVectorizer()\n",
    "# tfvectorizer.fit(X_train)\n",
    "\n",
    "# X_train_tfv = tfvectorizer.transform(X_train)\n",
    "\n",
    "# # Transform the testing data using the same vectorizer\n",
    "# X_test_tfv = tfvectorizer.transform(X_test)\n",
    "# x_testing_tfv = tfvectorizer.transform(X_testingset)\n"
   ]
  },
  {
   "cell_type": "markdown",
   "id": "317bcb7b",
   "metadata": {
    "papermill": {
     "duration": 0.023004,
     "end_time": "2024-05-01T05:39:14.034470",
     "exception": false,
     "start_time": "2024-05-01T05:39:14.011466",
     "status": "completed"
    },
    "tags": []
   },
   "source": [
    "To get a measure of the performance of the difference models under consideration, let us note down the different models under consideration and their respective accuracies."
   ]
  },
  {
   "cell_type": "code",
   "execution_count": 32,
   "id": "a15e8b02",
   "metadata": {
    "execution": {
     "iopub.execute_input": "2024-05-01T05:39:14.082663Z",
     "iopub.status.busy": "2024-05-01T05:39:14.082259Z",
     "iopub.status.idle": "2024-05-01T05:39:14.087182Z",
     "shell.execute_reply": "2024-05-01T05:39:14.086211Z"
    },
    "papermill": {
     "duration": 0.031708,
     "end_time": "2024-05-01T05:39:14.089434",
     "exception": false,
     "start_time": "2024-05-01T05:39:14.057726",
     "status": "completed"
    },
    "tags": []
   },
   "outputs": [],
   "source": [
    "accuracy_count = {}"
   ]
  },
  {
   "cell_type": "markdown",
   "id": "130b77bb",
   "metadata": {
    "papermill": {
     "duration": 0.022779,
     "end_time": "2024-05-01T05:39:14.135715",
     "exception": false,
     "start_time": "2024-05-01T05:39:14.112936",
     "status": "completed"
    },
    "tags": []
   },
   "source": [
    "### Logistic Regressor"
   ]
  },
  {
   "cell_type": "code",
   "execution_count": 33,
   "id": "2fdd1d01",
   "metadata": {
    "execution": {
     "iopub.execute_input": "2024-05-01T05:39:14.184921Z",
     "iopub.status.busy": "2024-05-01T05:39:14.184453Z",
     "iopub.status.idle": "2024-05-01T05:39:42.104069Z",
     "shell.execute_reply": "2024-05-01T05:39:42.102908Z"
    },
    "papermill": {
     "duration": 27.947655,
     "end_time": "2024-05-01T05:39:42.106676",
     "exception": false,
     "start_time": "2024-05-01T05:39:14.159021",
     "status": "completed"
    },
    "tags": []
   },
   "outputs": [
    {
     "name": "stdout",
     "output_type": "stream",
     "text": [
      "Accuracy: 0.8065764641908966\n"
     ]
    },
    {
     "data": {
      "image/png": "[encoded data removed]",
      "text/plain": [
       "<Figure size 400x400 with 1 Axes>"
      ]
     },
     "metadata": {},
     "output_type": "display_data"
    }
   ],
   "source": [
    "# Train a classifier (e.g., Logistic Regression)\n",
    "classifier = LogisticRegression(max_iter = 2000, C = 1)\n",
    "classifier.fit(X_train_cv, y_train)\n",
    "\n",
    "y_pred = classifier.predict(X_test_cv)\n",
    "\n",
    "accuracy = accuracy_score(y_test, y_pred)\n",
    "print(\"Accuracy:\", accuracy)\n",
    "\n",
    "cm = confusion_matrix(y_test, y_pred)\n",
    "\n",
    "fig, ax = plt.subplots(figsize=(4, 4))\n",
    "\n",
    "# Create a heatmap using seaborn\n",
    "sns.heatmap(cm, annot=True, fmt=\"d\", cmap=\"Blues\", cbar=False, ax=ax)\n",
    "\n",
    "# Set labels, title, and ticks\n",
    "ax.set_xlabel('Predicted Labels')\n",
    "ax.set_ylabel('True Labels')\n",
    "ax.set_title('Confusion Matrix')\n",
    "\n",
    "plt.show()\n",
    "\n",
    "accuracy_count['LogisticRegression'] = accuracy"
   ]
  },
  {
   "cell_type": "markdown",
   "id": "f85e25df",
   "metadata": {
    "papermill": {
     "duration": 0.023551,
     "end_time": "2024-05-01T05:39:42.154379",
     "exception": false,
     "start_time": "2024-05-01T05:39:42.130828",
     "status": "completed"
    },
    "tags": []
   },
   "source": [
    "### Multinomial Naive Bayes"
   ]
  },
  {
   "cell_type": "code",
   "execution_count": 34,
   "id": "215d71de",
   "metadata": {
    "execution": {
     "iopub.execute_input": "2024-05-01T05:39:42.205367Z",
     "iopub.status.busy": "2024-05-01T05:39:42.204601Z",
     "iopub.status.idle": "2024-05-01T05:39:46.365630Z",
     "shell.execute_reply": "2024-05-01T05:39:46.363585Z"
    },
    "papermill": {
     "duration": 4.191188,
     "end_time": "2024-05-01T05:39:46.369785",
     "exception": false,
     "start_time": "2024-05-01T05:39:42.178597",
     "status": "completed"
    },
    "tags": []
   },
   "outputs": [
    {
     "name": "stdout",
     "output_type": "stream",
     "text": [
      "Best Parameters: {'alpha': 2, 'fit_prior': False, 'force_alpha': True}\n",
      "Accuracy: 0.8054569299171545\n"
     ]
    },
    {
     "data": {
      "image/png": "[encoded data removed]",
      "text/plain": [
       "<Figure size 400x400 with 1 Axes>"
      ]
     },
     "metadata": {},
     "output_type": "display_data"
    }
   ],
   "source": [
    "param_grid = {\n",
    "    'alpha': [0.1,1,2,10], \n",
    "    'fit_prior': [True, False],\n",
    "    'force_alpha': [True, False]\n",
    "}\n",
    "\n",
    "# Create a pipeline with CountVectorizer and MultinomialNB\n",
    "multnb = MultinomialNB()\n",
    "\n",
    "\n",
    "# Create a GridSearchCV object\n",
    "grid_search = GridSearchCV(multnb, param_grid, cv=5, scoring='accuracy')\n",
    "\n",
    "# Fit the GridSearchCV object on the training data\n",
    "grid_search.fit(X_train_cv, y_train)\n",
    "\n",
    "# Get the best parameter values\n",
    "best_params = grid_search.best_params_\n",
    "print(\"Best Parameters:\", best_params)\n",
    "\n",
    "# Get the best classifier\n",
    "best_classifier = grid_search.best_estimator_\n",
    "\n",
    "\n",
    "#Predicted Values\n",
    "y_pred = best_classifier.predict(X_test_cv)\n",
    "\n",
    "# Accuracy of the model\n",
    "accuracy = accuracy_score(y_test, y_pred)\n",
    "print(\"Accuracy:\", accuracy)\n",
    "\n",
    "cm = confusion_matrix(y_test, y_pred)\n",
    "\n",
    "fig, ax = plt.subplots(figsize=(4, 4))\n",
    "\n",
    "# Create a heatmap using seaborn\n",
    "sns.heatmap(cm, annot=True, fmt=\"d\", cmap=\"Reds\", cbar=False, ax=ax)\n",
    "\n",
    "# Set labels, title, and ticks\n",
    "ax.set_xlabel('Predicted Labels')\n",
    "ax.set_ylabel('True Labels')\n",
    "ax.set_title('Confusion Matrix')\n",
    "\n",
    "accuracy_count['Multinomial Naive Bayes'] = accuracy"
   ]
  },
  {
   "cell_type": "markdown",
   "id": "1b4cc750",
   "metadata": {
    "papermill": {
     "duration": 0.024476,
     "end_time": "2024-05-01T05:39:46.418831",
     "exception": false,
     "start_time": "2024-05-01T05:39:46.394355",
     "status": "completed"
    },
    "tags": []
   },
   "source": [
    "### Naive Bayes Classifier"
   ]
  },
  {
   "cell_type": "code",
   "execution_count": 35,
   "id": "15e0a62d",
   "metadata": {
    "execution": {
     "iopub.execute_input": "2024-05-01T05:39:46.469124Z",
     "iopub.status.busy": "2024-05-01T05:39:46.468095Z",
     "iopub.status.idle": "2024-05-01T05:39:50.735459Z",
     "shell.execute_reply": "2024-05-01T05:39:50.734282Z"
    },
    "papermill": {
     "duration": 4.295169,
     "end_time": "2024-05-01T05:39:50.738035",
     "exception": false,
     "start_time": "2024-05-01T05:39:46.442866",
     "status": "completed"
    },
    "tags": []
   },
   "outputs": [
    {
     "name": "stdout",
     "output_type": "stream",
     "text": [
      "Best Parameters: {'alpha': 2, 'fit_prior': True, 'force_alpha': True}\n",
      "Accuracy: 0.8054569299171545\n"
     ]
    },
    {
     "data": {
      "image/png": "[encoded data removed]",
      "text/plain": [
       "<Figure size 400x400 with 1 Axes>"
      ]
     },
     "metadata": {},
     "output_type": "display_data"
    }
   ],
   "source": [
    "param_grid = {\n",
    "    'alpha': [0.1,1,2,10], \n",
    "    'fit_prior': [True, False],\n",
    "    'force_alpha': [True, False]\n",
    "}\n",
    "\n",
    "# Create a pipeline with CountVectorizer and Complement NB\n",
    "compmt_classifier = ComplementNB()\n",
    "\n",
    "\n",
    "# Create a GridSearchCV object\n",
    "grid_search = GridSearchCV(compmt_classifier, param_grid, cv=5, scoring='accuracy')\n",
    "\n",
    "# Fit the GridSearchCV object on the training data\n",
    "grid_search.fit(X_train_cv, y_train)\n",
    "\n",
    "# Get the best parameter values\n",
    "best_params = grid_search.best_params_\n",
    "print(\"Best Parameters:\", best_params)\n",
    "\n",
    "# Get the best classifier\n",
    "best_classifier = grid_search.best_estimator_\n",
    "\n",
    "\n",
    "#Predicted Values\n",
    "y_pred = best_classifier.predict(X_test_cv)\n",
    "\n",
    "# Accuracy of the model\n",
    "accuracy = accuracy_score(y_test, y_pred)\n",
    "print(\"Accuracy:\", accuracy)\n",
    "\n",
    "cm = confusion_matrix(y_test, y_pred)\n",
    "\n",
    "fig, ax = plt.subplots(figsize=(4, 4))\n",
    "\n",
    "# Create a heatmap using seaborn\n",
    "sns.heatmap(cm, annot=True, fmt=\"d\", cmap=\"Greens\", cbar=False, ax=ax)\n",
    "\n",
    "# Set labels, title, and ticks\n",
    "ax.set_xlabel('Predicted Labels')\n",
    "ax.set_ylabel('True Labels')\n",
    "ax.set_title('Confusion Matrix')\n",
    "\n",
    "accuracy_count['Complement Naive Bayes'] = accuracy"
   ]
  },
  {
   "cell_type": "markdown",
   "id": "03d3e606",
   "metadata": {
    "papermill": {
     "duration": 0.023804,
     "end_time": "2024-05-01T05:39:50.786146",
     "exception": false,
     "start_time": "2024-05-01T05:39:50.762342",
     "status": "completed"
    },
    "tags": []
   },
   "source": [
    "### SVC Classifier"
   ]
  },
  {
   "cell_type": "code",
   "execution_count": 36,
   "id": "b74680ab",
   "metadata": {
    "execution": {
     "iopub.execute_input": "2024-05-01T05:39:50.836502Z",
     "iopub.status.busy": "2024-05-01T05:39:50.836127Z",
     "iopub.status.idle": "2024-05-01T05:39:53.743081Z",
     "shell.execute_reply": "2024-05-01T05:39:53.741551Z"
    },
    "papermill": {
     "duration": 2.935298,
     "end_time": "2024-05-01T05:39:53.745566",
     "exception": false,
     "start_time": "2024-05-01T05:39:50.810268",
     "status": "completed"
    },
    "tags": []
   },
   "outputs": [
    {
     "name": "stdout",
     "output_type": "stream",
     "text": [
      "Accuracy: 0.8096471867703036\n"
     ]
    },
    {
     "data": {
      "image/png": "[encoded data removed]",
      "text/plain": [
       "<Figure size 400x400 with 1 Axes>"
      ]
     },
     "metadata": {},
     "output_type": "display_data"
    }
   ],
   "source": [
    "svc_classifier = LinearSVC(C = 0.0409, max_iter = 1500)\n",
    "\n",
    "svc_classifier.fit(X_train_cv, y_train)\n",
    "\n",
    "#Predicted Values\n",
    "y_pred = svc_classifier.predict(X_test_cv)\n",
    "\n",
    "# Accuracy of the model\n",
    "accuracy = accuracy_score(y_test, y_pred)\n",
    "print(\"Accuracy:\", accuracy)\n",
    "\n",
    "cm = confusion_matrix(y_test, y_pred)\n",
    "\n",
    "fig, ax = plt.subplots(figsize=(4, 4))\n",
    "\n",
    "# Create a heatmap using seaborn\n",
    "sns.heatmap(cm, annot=True, fmt=\"d\", cmap=\"Greens\", cbar=False, ax=ax)\n",
    "\n",
    "# Set labels, title, and ticks\n",
    "ax.set_xlabel('Predicted Labels')\n",
    "ax.set_ylabel('True Labels')\n",
    "ax.set_title('Confusion Matrix')\n",
    "\n",
    "accuracy_count['Linear SVC'] = accuracy"
   ]
  },
  {
   "cell_type": "code",
   "execution_count": 37,
   "id": "6a0a7396",
   "metadata": {
    "execution": {
     "iopub.execute_input": "2024-05-01T05:39:53.797258Z",
     "iopub.status.busy": "2024-05-01T05:39:53.796807Z",
     "iopub.status.idle": "2024-05-01T05:39:53.803003Z",
     "shell.execute_reply": "2024-05-01T05:39:53.801924Z"
    },
    "papermill": {
     "duration": 0.034814,
     "end_time": "2024-05-01T05:39:53.805263",
     "exception": false,
     "start_time": "2024-05-01T05:39:53.770449",
     "status": "completed"
    },
    "tags": []
   },
   "outputs": [],
   "source": [
    "# param_grid = {\n",
    "#     'C' : [0.0409],\n",
    "#     'loss': ['hinge', 'squared_hinge'] ,\n",
    "#     'multi_class': ['ovr', 'crammer_singer'],\n",
    "#     'penalty' : ['l1', 'l2']\n",
    "# }\n",
    "\n",
    "# svc_classifier = LinearSVC(max_iter = 1500)\n",
    "\n",
    "\n",
    "# # Create a GridSearchCV object\n",
    "# grid_search = GridSearchCV(svc_classifier, param_grid, cv=5, scoring='accuracy')\n",
    "\n",
    "# # Fit the GridSearchCV object on the training data\n",
    "# grid_search.fit(X_train_cv, y_train)\n",
    "\n",
    "# # Get the best parameter values\n",
    "# best_params = grid_search.best_params_\n",
    "# print(\"Best Parameters:\", best_params)\n",
    "\n",
    "# # Get the best classifier\n",
    "# best_classifier = grid_search.best_estimator_\n",
    "\n",
    "\n",
    "# #Predicted Values\n",
    "# y_pred = best_classifier.predict(X_test_cv)\n",
    "\n",
    "# # Accuracy of the model\n",
    "# accuracy = accuracy_score(y_test, y_pred)\n",
    "# print(\"Accuracy:\", accuracy)\n",
    "\n",
    "# cm = confusion_matrix(y_test, y_pred)\n",
    "\n",
    "# fig, ax = plt.subplots(figsize=(4, 4))\n",
    "\n",
    "# # Create a heatmap using seaborn\n",
    "# sns.heatmap(cm, annot=True, fmt=\"d\", cmap=\"Greens\", cbar=False, ax=ax)\n",
    "\n",
    "# # Set labels, title, and ticks\n",
    "# ax.set_xlabel('Predicted Labels')\n",
    "# ax.set_ylabel('True Labels')\n",
    "# ax.set_title('Confusion Matrix')\n",
    "\n"
   ]
  },
  {
   "cell_type": "markdown",
   "id": "b477ec30",
   "metadata": {
    "papermill": {
     "duration": 0.024341,
     "end_time": "2024-05-01T05:39:53.854702",
     "exception": false,
     "start_time": "2024-05-01T05:39:53.830361",
     "status": "completed"
    },
    "tags": []
   },
   "source": [
    "### Random Forest Classifier"
   ]
  },
  {
   "cell_type": "code",
   "execution_count": 38,
   "id": "bb18f28b",
   "metadata": {
    "execution": {
     "iopub.execute_input": "2024-05-01T05:39:53.908275Z",
     "iopub.status.busy": "2024-05-01T05:39:53.907809Z",
     "iopub.status.idle": "2024-05-01T05:41:06.109876Z",
     "shell.execute_reply": "2024-05-01T05:41:06.108685Z"
    },
    "papermill": {
     "duration": 72.255622,
     "end_time": "2024-05-01T05:41:06.135958",
     "exception": false,
     "start_time": "2024-05-01T05:39:53.880336",
     "status": "completed"
    },
    "tags": []
   },
   "outputs": [
    {
     "name": "stdout",
     "output_type": "stream",
     "text": [
      "Accuracy: 0.6769343952915587\n"
     ]
    },
    {
     "data": {
      "image/png": "[encoded data removed]",
      "text/plain": [
       "<Figure size 400x400 with 1 Axes>"
      ]
     },
     "metadata": {},
     "output_type": "display_data"
    }
   ],
   "source": [
    "rf_classifier = RandomForestClassifier(n_estimators=300, max_depth=50, min_samples_split = 2, min_samples_leaf =2)\n",
    "\n",
    "rf_classifier.fit(X_train_cv, y_train)\n",
    "\n",
    "#Predicted Values\n",
    "y_pred = rf_classifier.predict(X_test_cv)\n",
    "\n",
    "# Accuracy of the model\n",
    "accuracy = accuracy_score(y_test, y_pred)\n",
    "print(\"Accuracy:\", accuracy)\n",
    "\n",
    "cm = confusion_matrix(y_test, y_pred)\n",
    "\n",
    "fig, ax = plt.subplots(figsize=(4, 4))\n",
    "\n",
    "# Create a heatmap using seaborn\n",
    "sns.heatmap(cm, annot=True, fmt=\"d\", cmap=\"Spectral\", cbar=False, ax=ax)\n",
    "\n",
    "# Set labels, title, and ticks\n",
    "ax.set_xlabel('Predicted Labels')\n",
    "ax.set_ylabel('True Labels')\n",
    "ax.set_title('Confusion Matrix')\n",
    "\n",
    "accuracy_count['RandomForestClassifier'] = accuracy"
   ]
  },
  {
   "cell_type": "markdown",
   "id": "3983b206",
   "metadata": {
    "papermill": {
     "duration": 0.026233,
     "end_time": "2024-05-01T05:41:06.187485",
     "exception": false,
     "start_time": "2024-05-01T05:41:06.161252",
     "status": "completed"
    },
    "tags": []
   },
   "source": [
    "### Adaboost Classifier"
   ]
  },
  {
   "cell_type": "code",
   "execution_count": 39,
   "id": "d3662ef5",
   "metadata": {
    "execution": {
     "iopub.execute_input": "2024-05-01T05:41:06.239958Z",
     "iopub.status.busy": "2024-05-01T05:41:06.239507Z",
     "iopub.status.idle": "2024-05-01T05:41:23.538528Z",
     "shell.execute_reply": "2024-05-01T05:41:23.537382Z"
    },
    "papermill": {
     "duration": 17.328774,
     "end_time": "2024-05-01T05:41:23.541356",
     "exception": false,
     "start_time": "2024-05-01T05:41:06.212582",
     "status": "completed"
    },
    "tags": []
   },
   "outputs": [
    {
     "name": "stderr",
     "output_type": "stream",
     "text": [
      "/opt/conda/lib/python3.10/site-packages/sklearn/ensemble/_base.py:166: FutureWarning: `base_estimator` was renamed to `estimator` in version 1.2 and will be removed in 1.4.\n",
      "  warnings.warn(\n"
     ]
    },
    {
     "name": "stdout",
     "output_type": "stream",
     "text": [
      "Accuracy: 0.7670728976745674\n"
     ]
    },
    {
     "data": {
      "image/png": "[encoded data removed]",
      "text/plain": [
       "<Figure size 400x400 with 1 Axes>"
      ]
     },
     "metadata": {},
     "output_type": "display_data"
    }
   ],
   "source": [
    "base_estimator = LinearSVC(C = 0.05, max_iter = 1500)\n",
    "adaboost = AdaBoostClassifier(base_estimator=base_estimator, algorithm = 'SAMME')\n",
    "\n",
    "adaboost.fit(X_train_cv, y_train)\n",
    "\n",
    "y_pred = adaboost.predict(X_test_cv)\n",
    "\n",
    "# Accuracy of the model\n",
    "accuracy = accuracy_score(y_test, y_pred)\n",
    "print(\"Accuracy:\", accuracy)\n",
    "\n",
    "cm = confusion_matrix(y_test, y_pred)\n",
    "\n",
    "fig, ax = plt.subplots(figsize=(4, 4))\n",
    "\n",
    "# Create a heatmap using seaborn\n",
    "sns.heatmap(cm, annot=True, fmt=\"d\", cmap=\"Greens\", cbar=False, ax=ax)\n",
    "\n",
    "# Set labels, title, and ticks\n",
    "ax.set_xlabel('Predicted Labels')\n",
    "ax.set_ylabel('True Labels')\n",
    "ax.set_title('Confusion Matrix')\n",
    "\n",
    "accuracy_count['AdaBoostClassifier'] = accuracy"
   ]
  },
  {
   "cell_type": "markdown",
   "id": "63040129",
   "metadata": {
    "papermill": {
     "duration": 0.025236,
     "end_time": "2024-05-01T05:41:23.592542",
     "exception": false,
     "start_time": "2024-05-01T05:41:23.567306",
     "status": "completed"
    },
    "tags": []
   },
   "source": [
    "### Perceptron"
   ]
  },
  {
   "cell_type": "code",
   "execution_count": 40,
   "id": "7842f288",
   "metadata": {
    "execution": {
     "iopub.execute_input": "2024-05-01T05:41:23.646225Z",
     "iopub.status.busy": "2024-05-01T05:41:23.645549Z",
     "iopub.status.idle": "2024-05-01T05:42:45.756354Z",
     "shell.execute_reply": "2024-05-01T05:42:45.754777Z"
    },
    "papermill": {
     "duration": 82.141026,
     "end_time": "2024-05-01T05:42:45.759213",
     "exception": false,
     "start_time": "2024-05-01T05:41:23.618187",
     "status": "completed"
    },
    "tags": []
   },
   "outputs": [
    {
     "name": "stdout",
     "output_type": "stream",
     "text": [
      "Best Parameters: {'alpha': 0.0001, 'max_iter': 100, 'penalty': 'l1'}\n",
      "Accuracy: 0.7502478968749\n"
     ]
    },
    {
     "data": {
      "image/png": "[encoded data removed]",
      "text/plain": [
       "<Figure size 400x400 with 1 Axes>"
      ]
     },
     "metadata": {},
     "output_type": "display_data"
    }
   ],
   "source": [
    "param_grid = {\n",
    "    'penalty': ['l1', 'l2', 'elasticnet'],\n",
    "    'alpha': [0.0001, 0.001, 0.01],\n",
    "    'max_iter': [100, 200, 500]\n",
    "}\n",
    "\n",
    "perceptron = Perceptron()\n",
    "\n",
    "\n",
    "# Create a GridSearchCV object\n",
    "grid_search = GridSearchCV(perceptron, param_grid, cv=5, scoring='accuracy')\n",
    "\n",
    "# Fit the GridSearchCV object on the training data\n",
    "grid_search.fit(X_train_cv, y_train)\n",
    "\n",
    "# Get the best parameter values\n",
    "best_params = grid_search.best_params_\n",
    "print(\"Best Parameters:\", best_params)\n",
    "\n",
    "# Get the best classifier\n",
    "best_classifier = grid_search.best_estimator_\n",
    "\n",
    "\n",
    "# Create a Perceptron classifier\n",
    "\n",
    "# Train the Perceptron classifier on the training data\n",
    "perceptron.fit(X_train_cv, y_train)\n",
    "\n",
    "# Make predictions on the testing data\n",
    "y_pred = perceptron.predict(X_test_cv)\n",
    "\n",
    "\n",
    "\n",
    "# Accuracy of the model\n",
    "accuracy = accuracy_score(y_test, y_pred)\n",
    "print(\"Accuracy:\", accuracy)\n",
    "\n",
    "cm = confusion_matrix(y_test, y_pred)\n",
    "\n",
    "fig, ax = plt.subplots(figsize=(4, 4))\n",
    "\n",
    "# Create a heatmap using seaborn\n",
    "sns.heatmap(cm, annot=True, fmt=\"d\", cmap=\"Spectral\", cbar=False, ax=ax)\n",
    "\n",
    "# Set labels, title, and ticks\n",
    "ax.set_xlabel('Predicted Labels')\n",
    "ax.set_ylabel('True Labels')\n",
    "ax.set_title('Confusion Matrix')\n",
    "\n",
    "accuracy_count['Perceptron'] = accuracy"
   ]
  },
  {
   "cell_type": "code",
   "execution_count": 41,
   "id": "f3cfd5d2",
   "metadata": {
    "execution": {
     "iopub.execute_input": "2024-05-01T05:42:45.814564Z",
     "iopub.status.busy": "2024-05-01T05:42:45.813943Z",
     "iopub.status.idle": "2024-05-01T05:42:45.818759Z",
     "shell.execute_reply": "2024-05-01T05:42:45.817863Z"
    },
    "papermill": {
     "duration": 0.03555,
     "end_time": "2024-05-01T05:42:45.821252",
     "exception": false,
     "start_time": "2024-05-01T05:42:45.785702",
     "status": "completed"
    },
    "tags": []
   },
   "outputs": [],
   "source": [
    "# pca = PCA(n_components=100)\n",
    "# pca.fit(X_train_cv)\n",
    "\n",
    "# X_train_pca = pca.transform(X_train_cv)\n",
    "# X_test_pca = pca.transform(X_test_cv)\n",
    "\n",
    "# mlp = MLPClassifier()#hidden_layer_sizes=(100,), activation='relu', solver='adam', random_state=42, max_iter = 1500)\n",
    "\n",
    "# mlp.fit(X_train_pca, y_train)\n",
    "\n",
    "# #Predicted Values\n",
    "# y_pred = mlp.predict(X_test_pca)\n",
    "\n",
    "# # Accuracy of the model\n",
    "# accuracy = accuracy_score(y_test, y_pred)\n",
    "# print(\"Accuracy:\", accuracy)\n",
    "\n",
    "# cm = confusion_matrix(y_test, y_pred)\n",
    "\n",
    "# fig, ax = plt.subplots(figsize=(4, 4))\n",
    "\n",
    "# # Create a heatmap using seaborn\n",
    "# sns.heatmap(cm, annot=True, fmt=\"d\", cmap=\"Spectral\", cbar=False, ax=ax)\n",
    "\n",
    "# # Set labels, title, and ticks\n",
    "# ax.set_xlabel('Predicted Labels')\n",
    "# ax.set_ylabel('True Labels')\n",
    "# ax.set_title('Confusion Matrix')\n",
    "\n"
   ]
  },
  {
   "cell_type": "markdown",
   "id": "e28185f3",
   "metadata": {
    "papermill": {
     "duration": 0.026587,
     "end_time": "2024-05-01T05:42:45.875075",
     "exception": false,
     "start_time": "2024-05-01T05:42:45.848488",
     "status": "completed"
    },
    "tags": []
   },
   "source": [
    "## Measure the performance of each of the models"
   ]
  },
  {
   "cell_type": "code",
   "execution_count": 42,
   "id": "679d6e0a",
   "metadata": {
    "execution": {
     "iopub.execute_input": "2024-05-01T05:42:45.932020Z",
     "iopub.status.busy": "2024-05-01T05:42:45.931478Z",
     "iopub.status.idle": "2024-05-01T05:42:46.288484Z",
     "shell.execute_reply": "2024-05-01T05:42:46.287288Z"
    },
    "papermill": {
     "duration": 0.388912,
     "end_time": "2024-05-01T05:42:46.291417",
     "exception": false,
     "start_time": "2024-05-01T05:42:45.902505",
     "status": "completed"
    },
    "tags": []
   },
   "outputs": [
    {
     "data": {
      "image/png": "[encoded data removed]",
      "text/plain": [
       "<Figure size 640x480 with 1 Axes>"
      ]
     },
     "metadata": {},
     "output_type": "display_data"
    }
   ],
   "source": [
    "\n",
    "models = list(accuracy_count.keys())\n",
    "accuracy = list(accuracy_count.values())\n",
    "\n",
    "sns.lineplot(x = models, y = accuracy)\n",
    "plt.xticks(rotation=30, ha='right')\n",
    "plt.xlabel('Models')\n",
    "plt.ylabel('Accuracy of Model')\n",
    "plt.title('A measure of performance of the various Models.')\n",
    "plt.show()"
   ]
  },
  {
   "cell_type": "markdown",
   "id": "5a27e975",
   "metadata": {
    "papermill": {
     "duration": 0.027621,
     "end_time": "2024-05-01T05:42:46.347533",
     "exception": false,
     "start_time": "2024-05-01T05:42:46.319912",
     "status": "completed"
    },
    "tags": []
   },
   "source": [
    "We can observe from this that the Linear SVC classifier offers the best accuracy of the list of models used. Therefore, the final prediction of the test set will be based on the **Linear SVC Model**."
   ]
  },
  {
   "cell_type": "markdown",
   "id": "7c77e86e",
   "metadata": {
    "papermill": {
     "duration": 0.026906,
     "end_time": "2024-05-01T05:42:46.401788",
     "exception": false,
     "start_time": "2024-05-01T05:42:46.374882",
     "status": "completed"
    },
    "tags": []
   },
   "source": [
    "## Predict the test set using the Optimal Classifier"
   ]
  },
  {
   "cell_type": "code",
   "execution_count": 43,
   "id": "ff1470d9",
   "metadata": {
    "execution": {
     "iopub.execute_input": "2024-05-01T05:42:46.459151Z",
     "iopub.status.busy": "2024-05-01T05:42:46.457702Z",
     "iopub.status.idle": "2024-05-01T05:42:46.662999Z",
     "shell.execute_reply": "2024-05-01T05:42:46.661141Z"
    },
    "papermill": {
     "duration": 0.237818,
     "end_time": "2024-05-01T05:42:46.666834",
     "exception": false,
     "start_time": "2024-05-01T05:42:46.429016",
     "status": "completed"
    },
    "tags": []
   },
   "outputs": [],
   "source": [
    "\n",
    "y_pred_test = svc_classifier.predict(x_testing_cv)\n",
    "\n",
    "y_pred_test\n",
    "replace_dict = {1:'POSITIVE', 0:'NEGATIVE' }\n",
    "y_predictions = [replace_dict[sentiment] for sentiment in y_pred_test]\n",
    "\n",
    "submission = pd.DataFrame(y_predictions, columns = [\"sentiment\"])\n",
    "submission.insert(loc = 0, column = \"id\", value = np.arange(len(submission)))\n",
    "\n",
    "\n",
    "submission.to_csv(\"submission.csv\", index = False)\n"
   ]
  }
 ],
 "metadata": {
  "kaggle": {
   "accelerator": "none",
   "dataSources": [
    {
     "databundleVersionId": 5834979,
     "sourceId": 53569,
     "sourceType": "competition"
    }
   ],
   "dockerImageVersionId": 30497,
   "isGpuEnabled": false,
   "isInternetEnabled": true,
   "language": "python",
   "sourceType": "notebook"
  },
  "kernelspec": {
   "display_name": "Python 3",
   "language": "python",
   "name": "python3"
  },
  "language_info": {
   "codemirror_mode": {
    "name": "ipython",
    "version": 3
   },
   "file_extension": ".py",
   "mimetype": "text/x-python",
   "name": "python",
   "nbconvert_exporter": "python",
   "pygments_lexer": "ipython3",
   "version": "3.10.10"
  },
  "papermill": {
   "default_parameters": {},
   "duration": 267.580797,
   "end_time": "2024-05-01T05:42:47.936412",
   "environment_variables": {},
   "exception": null,
   "input_path": "__notebook__.ipynb",
   "output_path": "__notebook__.ipynb",
   "parameters": {},
   "start_time": "2024-05-01T05:38:20.355615",
   "version": "2.4.0"
  }
 },
 "nbformat": 4,
 "nbformat_minor": 5
}
